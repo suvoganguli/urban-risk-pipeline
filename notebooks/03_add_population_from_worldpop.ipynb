{
 "cells": [
  {
   "cell_type": "markdown",
   "id": "c0244dc7",
   "metadata": {},
   "source": [
    "# Step 3: Add Population Feature Using WorldPop\n",
    "\n",
    "This notebook uses population raster data from WorldPop to estimate the number of people in each grid cell within Kawempe. It adds a `pop_est` feature to the ML-ready grid for risk prioritization."
   ]
  },
  {
   "cell_type": "code",
   "execution_count": 1,
   "id": "a6d50d23",
   "metadata": {},
   "outputs": [],
   "source": [
    "import geopandas as gpd\n",
    "import rasterio\n",
    "from rasterstats import zonal_stats\n",
    "import matplotlib.pyplot as plt\n",
    "import pandas as pd"
   ]
  },
  {
   "cell_type": "markdown",
   "id": "c379a86e",
   "metadata": {},
   "source": [
    "## Load Grid and WorldPop Population Raster"
   ]
  },
  {
   "cell_type": "code",
   "execution_count": 2,
   "id": "72992b6d",
   "metadata": {},
   "outputs": [
    {
     "data": {
      "image/png": "[encoded data removed]",
      "text/plain": [
       "<Figure size 800x800 with 1 Axes>"
      ]
     },
     "metadata": {},
     "output_type": "display_data"
    }
   ],
   "source": [
    "# Load the grid file from the previous step\n",
    "grid = gpd.read_file('../data/processed/kawempe_grid_features.geojson')\n",
    "\n",
    "# Load WorldPop raster path (modify if needed)\n",
    "pop_raster_path = '../data/raw/uga_ppp_2020_1km_Aggregated.tif'\n",
    "\n",
    "# Preview grid\n",
    "grid.plot(edgecolor='gray', facecolor='none', figsize=(8, 8))\n",
    "plt.title('Kawempe Grid')\n",
    "plt.show()"
   ]
  },
  {
   "cell_type": "markdown",
   "id": "972a45be",
   "metadata": {},
   "source": [
    "## Compute Population per Grid Cell"
   ]
  },
  {
   "cell_type": "code",
   "execution_count": 3,
   "id": "7f24ca81",
   "metadata": {},
   "outputs": [
    {
     "data": {
      "text/html": [
       "<div>\n",
       "<style scoped>\n",
       "    .dataframe tbody tr th:only-of-type {\n",
       "        vertical-align: middle;\n",
       "    }\n",
       "\n",
       "    .dataframe tbody tr th {\n",
       "        vertical-align: top;\n",
       "    }\n",
       "\n",
       "    .dataframe thead th {\n",
       "        text-align: right;\n",
       "    }\n",
       "</style>\n",
       "<table border=\"1\" class=\"dataframe\">\n",
       "  <thead>\n",
       "    <tr style=\"text-align: right;\">\n",
       "      <th></th>\n",
       "      <th>geometry</th>\n",
       "      <th>mean_ndvi</th>\n",
       "      <th>building_count</th>\n",
       "      <th>service_count</th>\n",
       "      <th>road_km</th>\n",
       "      <th>cluster</th>\n",
       "      <th>risk_level</th>\n",
       "      <th>risk_score</th>\n",
       "      <th>pop_est</th>\n",
       "    </tr>\n",
       "  </thead>\n",
       "  <tbody>\n",
       "    <tr>\n",
       "      <th>0</th>\n",
       "      <td>POLYGON ((32.54795 0.31998, 32.54795 0.33807, ...</td>\n",
       "      <td>0.167570</td>\n",
       "      <td>0.0</td>\n",
       "      <td>0.0</td>\n",
       "      <td>0.0</td>\n",
       "      <td>3</td>\n",
       "      <td>Low</td>\n",
       "      <td>0.108374</td>\n",
       "      <td>58313</td>\n",
       "    </tr>\n",
       "    <tr>\n",
       "      <th>1</th>\n",
       "      <td>POLYGON ((32.54795 0.33807, 32.54794 0.35616, ...</td>\n",
       "      <td>0.213353</td>\n",
       "      <td>0.0</td>\n",
       "      <td>0.0</td>\n",
       "      <td>0.0</td>\n",
       "      <td>3</td>\n",
       "      <td>Low</td>\n",
       "      <td>0.069680</td>\n",
       "      <td>43257</td>\n",
       "    </tr>\n",
       "    <tr>\n",
       "      <th>2</th>\n",
       "      <td>POLYGON ((32.54794 0.35616, 32.54794 0.37426, ...</td>\n",
       "      <td>0.168311</td>\n",
       "      <td>0.0</td>\n",
       "      <td>0.0</td>\n",
       "      <td>0.0</td>\n",
       "      <td>3</td>\n",
       "      <td>Low</td>\n",
       "      <td>0.107748</td>\n",
       "      <td>56063</td>\n",
       "    </tr>\n",
       "    <tr>\n",
       "      <th>3</th>\n",
       "      <td>POLYGON ((32.54794 0.37426, 32.54794 0.39235, ...</td>\n",
       "      <td>0.055386</td>\n",
       "      <td>0.0</td>\n",
       "      <td>0.0</td>\n",
       "      <td>0.0</td>\n",
       "      <td>0</td>\n",
       "      <td>Medium</td>\n",
       "      <td>0.203189</td>\n",
       "      <td>32730</td>\n",
       "    </tr>\n",
       "    <tr>\n",
       "      <th>4</th>\n",
       "      <td>POLYGON ((32.54794 0.39235, 32.54794 0.41045, ...</td>\n",
       "      <td>0.000000</td>\n",
       "      <td>0.0</td>\n",
       "      <td>0.0</td>\n",
       "      <td>0.0</td>\n",
       "      <td>0</td>\n",
       "      <td>Medium</td>\n",
       "      <td>0.250000</td>\n",
       "      <td>25767</td>\n",
       "    </tr>\n",
       "  </tbody>\n",
       "</table>\n",
       "</div>"
      ],
      "text/plain": [
       "                                            geometry  mean_ndvi  \\\n",
       "0  POLYGON ((32.54795 0.31998, 32.54795 0.33807, ...   0.167570   \n",
       "1  POLYGON ((32.54795 0.33807, 32.54794 0.35616, ...   0.213353   \n",
       "2  POLYGON ((32.54794 0.35616, 32.54794 0.37426, ...   0.168311   \n",
       "3  POLYGON ((32.54794 0.37426, 32.54794 0.39235, ...   0.055386   \n",
       "4  POLYGON ((32.54794 0.39235, 32.54794 0.41045, ...   0.000000   \n",
       "\n",
       "   building_count  service_count  road_km  cluster risk_level  risk_score  \\\n",
       "0             0.0            0.0      0.0        3        Low    0.108374   \n",
       "1             0.0            0.0      0.0        3        Low    0.069680   \n",
       "2             0.0            0.0      0.0        3        Low    0.107748   \n",
       "3             0.0            0.0      0.0        0     Medium    0.203189   \n",
       "4             0.0            0.0      0.0        0     Medium    0.250000   \n",
       "\n",
       "   pop_est  \n",
       "0    58313  \n",
       "1    43257  \n",
       "2    56063  \n",
       "3    32730  \n",
       "4    25767  "
      ]
     },
     "execution_count": 3,
     "metadata": {},
     "output_type": "execute_result"
    }
   ],
   "source": [
    "# Compute zonal population stats\n",
    "pop_stats = zonal_stats(\n",
    "    grid.to_json(),\n",
    "    pop_raster_path,\n",
    "    stats=['sum'],\n",
    "    geojson_out=True\n",
    ")\n",
    "\n",
    "# Add pop_est to grid\n",
    "pop_grid = gpd.GeoDataFrame.from_features(pop_stats).set_crs('EPSG:4326')\n",
    "pop_grid = pop_grid.rename(columns={'sum': 'pop_est'})\n",
    "pop_grid['pop_est'] = pop_grid['pop_est'].fillna(0).astype(int)\n",
    "pop_grid.head()"
   ]
  },
  {
   "cell_type": "markdown",
   "id": "df6d6cc1",
   "metadata": {},
   "source": [
    "## Visualize Estimated Population"
   ]
  },
  {
   "cell_type": "code",
   "execution_count": 6,
   "id": "c34dc843",
   "metadata": {},
   "outputs": [
    {
     "data": {
      "image/png": "[encoded data removed]",
      "text/plain": [
       "<Figure size 1000x1000 with 2 Axes>"
      ]
     },
     "metadata": {},
     "output_type": "display_data"
    }
   ],
   "source": [
    "fig, ax = plt.subplots(figsize=(10, 10))\n",
    "pop_grid.plot(column='pop_est', cmap='OrRd', legend=True, ax=ax, edgecolor='gray')\n",
    "plt.title('Estimated Population per Grid Cell')\n",
    "plt.axis('off')\n",
    "plt.show()"
   ]
  },
  {
   "cell_type": "markdown",
   "id": "4505c9d8",
   "metadata": {},
   "source": [
    "## Save Updated Grid with Population"
   ]
  },
  {
   "cell_type": "code",
   "execution_count": 7,
   "id": "c948a1ad",
   "metadata": {},
   "outputs": [],
   "source": [
    "# Merge population back with other features (if needed)\n",
    "pop_grid.to_file('../data/processed/kawempe_grid_with_population.geojson', driver='GeoJSON')"
   ]
  },
  {
   "cell_type": "code",
   "execution_count": null,
   "id": "374cacfa-c7df-4c17-82f4-7a3b3dda64bb",
   "metadata": {},
   "outputs": [],
   "source": []
  }
 ],
 "metadata": {
  "kernelspec": {
   "display_name": "Python (urban-risk)",
   "language": "python",
   "name": "urban-risk"
  },
  "language_info": {
   "codemirror_mode": {
    "name": "ipython",
    "version": 3
   },
   "file_extension": ".py",
   "mimetype": "text/x-python",
   "name": "python",
   "nbconvert_exporter": "python",
   "pygments_lexer": "ipython3",
   "version": "3.10.16"
  }
 },
 "nbformat": 4,
 "nbformat_minor": 5
}
