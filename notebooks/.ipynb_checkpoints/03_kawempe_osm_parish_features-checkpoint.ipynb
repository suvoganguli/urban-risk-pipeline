{
 "cells": [
  {
   "cell_type": "markdown",
   "id": "3949c992",
   "metadata": {},
   "source": [
    "# Kawempe Parish-Level Risk Features (Using OSM Boundaries)\n",
    "\n",
    "This notebook generates parish-level urban risk indicators in Kawempe Division using OpenStreetMap boundaries, NDVI raster, and OSM infrastructure data."
   ]
  },
  {
   "cell_type": "code",
   "execution_count": null,
   "id": "096a4619",
   "metadata": {},
   "outputs": [],
   "source": [
    "import geopandas as gpd\n",
    "import pandas as pd\n",
    "import matplotlib.pyplot as plt\n",
    "import rasterio\n",
    "from rasterstats import zonal_stats\n",
    "from shapely.geometry import box\n",
    "import osmnx as ox"
   ]
  },
  {
   "cell_type": "markdown",
   "id": "513fe7f9",
   "metadata": {},
   "source": [
    "## Step 1: Download Kawempe Parish Boundaries from OpenStreetMap"
   ]
  },
  {
   "cell_type": "code",
   "execution_count": null,
   "id": "0874a473",
   "metadata": {},
   "outputs": [],
   "source": [
    "place_name = 'Kawempe, Kampala, Uganda'\n",
    "# Get administrative boundaries with admin_level=10 (parish/ward level)\n",
    "tags = {'boundary': 'administrative', 'admin_level': '10'}\n",
    "parishes = ox.features_from_place(place_name, tags=tags)\n",
    "parishes = parishes.to_crs('EPSG:4326')\n",
    "print('Parish units:', len(parishes))\n",
    "parishes[['name']].head()"
   ]
  },
  {
   "cell_type": "markdown",
   "id": "6541a99d",
   "metadata": {},
   "source": [
    "## Step 2: Visualize Parish Boundaries"
   ]
  },
  {
   "cell_type": "code",
   "execution_count": null,
   "id": "600cd008",
   "metadata": {},
   "outputs": [],
   "source": [
    "parishes.plot(edgecolor='black', facecolor='lightgreen', figsize=(10, 10))\n",
    "plt.title('Kawempe Parishes from OSM')\n",
    "plt.axis('off')\n",
    "plt.show()"
   ]
  },
  {
   "cell_type": "markdown",
   "id": "e60fe95e",
   "metadata": {},
   "source": [
    "## Step 3: Compute NDVI per Parish"
   ]
  },
  {
   "cell_type": "code",
   "execution_count": null,
   "id": "40b819b1",
   "metadata": {},
   "outputs": [],
   "source": [
    "ndvi_path = '../data/raw/Kawempe_NDVI_2023.tif'\n",
    "stats = zonal_stats(parishes.to_json(), ndvi_path, stats=['mean'], geojson_out=True)\n",
    "ndvi_gdf = gpd.GeoDataFrame.from_features(stats).set_crs('EPSG:4326')\n",
    "ndvi_gdf = ndvi_gdf.rename(columns={'mean': 'mean_ndvi'})\n",
    "ndvi_gdf[['name', 'mean_ndvi']].head()"
   ]
  },
  {
   "cell_type": "markdown",
   "id": "a806461d",
   "metadata": {},
   "source": [
    "## Step 4: Load OSM Infrastructure Layers"
   ]
  },
  {
   "cell_type": "code",
   "execution_count": null,
   "id": "8f0f6bd1",
   "metadata": {},
   "outputs": [],
   "source": [
    "buildings = gpd.read_file('../data/raw/kawempe_buildings.geojson').to_crs('EPSG:4326')\n",
    "roads = gpd.read_file('../data/raw/kawempe_roads.geojson').to_crs('EPSG:4326')\n",
    "services = gpd.read_file('../data/raw/kawempe_services.geojson').to_crs('EPSG:4326')"
   ]
  },
  {
   "cell_type": "markdown",
   "id": "bdff82cb",
   "metadata": {},
   "source": [
    "## Step 5: Compute Building, Service, and Road Features"
   ]
  },
  {
   "cell_type": "code",
   "execution_count": null,
   "id": "411ba628",
   "metadata": {},
   "outputs": [],
   "source": [
    "# Count buildings per parish\n",
    "bldg_join = gpd.sjoin(buildings, ndvi_gdf, predicate='within')\n",
    "building_counts = bldg_join.groupby('name').size().reset_index(name='building_count')\n",
    "\n",
    "# Count services per parish\n",
    "svc_join = gpd.sjoin(services, ndvi_gdf, predicate='within')\n",
    "service_counts = svc_join.groupby('name').size().reset_index(name='service_count')\n",
    "\n",
    "# Total road length (projected)\n",
    "roads_proj = roads.to_crs('EPSG:32636')\n",
    "roads_proj['length_km'] = roads_proj.length / 1000\n",
    "parishes_proj = ndvi_gdf.to_crs('EPSG:32636')\n",
    "road_join = gpd.sjoin(roads_proj, parishes_proj, predicate='within')\n",
    "road_length = road_join.groupby('name')['length_km'].sum().reset_index()"
   ]
  },
  {
   "cell_type": "markdown",
   "id": "13a66435",
   "metadata": {},
   "source": [
    "## Step 6: Merge All Features"
   ]
  },
  {
   "cell_type": "code",
   "execution_count": null,
   "id": "325fe65a",
   "metadata": {},
   "outputs": [],
   "source": [
    "features = ndvi_gdf[['name', 'geometry', 'mean_ndvi']].copy()\n",
    "features = features.merge(building_counts, on='name', how='left')\n",
    "features = features.merge(service_counts, on='name', how='left')\n",
    "features = features.merge(road_length, on='name', how='left')\n",
    "features[['building_count', 'service_count', 'length_km']] = features[['building_count', 'service_count', 'length_km']].fillna(0)\n",
    "features.to_file('../data/processed/kawempe_osm_parish_features.geojson', driver='GeoJSON')\n",
    "features.head()"
   ]
  },
  {
   "cell_type": "markdown",
   "id": "651fb714",
   "metadata": {},
   "source": [
    "## Step 7: Visualize Final Risk Features"
   ]
  },
  {
   "cell_type": "code",
   "execution_count": null,
   "id": "9a0fd67a",
   "metadata": {},
   "outputs": [],
   "source": [
    "fig, axs = plt.subplots(1, 3, figsize=(18, 6))\n",
    "features.plot(column='mean_ndvi', cmap='YlGn', legend=True, ax=axs[0], edgecolor='black')\n",
    "axs[0].set_title('NDVI')\n",
    "features.plot(column='building_count', cmap='Oranges', legend=True, ax=axs[1], edgecolor='black')\n",
    "axs[1].set_title('Buildings')\n",
    "features.plot(column='service_count', cmap='Blues', legend=True, ax=axs[2], edgecolor='black')\n",
    "axs[2].set_title('Services')\n",
    "for ax in axs: ax.axis('off')\n",
    "plt.tight_layout()\n",
    "plt.show()"
   ]
  }
 ],
 "metadata": {},
 "nbformat": 4,
 "nbformat_minor": 5
}
