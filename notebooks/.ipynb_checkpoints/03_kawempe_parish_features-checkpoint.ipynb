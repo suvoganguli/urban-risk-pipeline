{
 "cells": [
  {
   "cell_type": "markdown",
   "id": "47f78f23",
   "metadata": {},
   "source": [
    "# Kawempe Parish-Level Risk Feature Preparation\n",
    "\n",
    "This notebook combines NDVI, OSM infrastructure, and administrative parish boundaries for Kawempe Division to produce a set of risk indicators at the parish level."
   ]
  },
  {
   "cell_type": "code",
   "execution_count": null,
   "id": "42a58dfd",
   "metadata": {},
   "outputs": [],
   "source": [
    "import geopandas as gpd\n",
    "import rasterio\n",
    "from rasterstats import zonal_stats\n",
    "import matplotlib.pyplot as plt\n",
    "from shapely.geometry import box\n",
    "import pandas as pd\n",
    "import numpy as np"
   ]
  },
  {
   "cell_type": "markdown",
   "id": "70bed811",
   "metadata": {},
   "source": [
    "## Load ADM4 and Extract Kawempe Parishes"
   ]
  },
  {
   "cell_type": "code",
   "execution_count": null,
   "id": "f07b3db2",
   "metadata": {},
   "outputs": [],
   "source": [
    "adm_path = '../data/raw/kampala_admin_boundaries/uga_admbnda_adm4_ubos_20200824.shp'\n",
    "gdf = gpd.read_file(adm_path)\n",
    "\n",
    "# Filter to Kampala district, then Kawempe division\n",
    "kampala_parishes = gdf[gdf['ADM2_EN'] == 'Kampala'].copy()\n",
    "kawempe_parishes = kampala_parishes[kampala_parishes['ADM3_EN'].str.contains('kawempe', case=False, na=False)].copy()\n",
    "kawempe_parishes = kawempe_parishes.to_crs('EPSG:4326')\n",
    "print('Kawempe parishes:', len(kawempe_parishes))\n",
    "kawempe_parishes.plot(figsize=(10, 10))"
   ]
  },
  {
   "cell_type": "markdown",
   "id": "94014a79",
   "metadata": {},
   "source": [
    "## Compute Mean NDVI per Parish"
   ]
  },
  {
   "cell_type": "code",
   "execution_count": null,
   "id": "a296d427",
   "metadata": {},
   "outputs": [],
   "source": [
    "ndvi_path = '../data/raw/Kawempe_NDVI_2023.tif'\n",
    "stats = zonal_stats(kawempe_parishes.to_json(), ndvi_path, stats=['mean'], geojson_out=True)\n",
    "ndvi_gdf = gpd.GeoDataFrame.from_features(stats)\n",
    "ndvi_gdf = ndvi_gdf.set_crs('EPSG:4326')\n",
    "ndvi_gdf = ndvi_gdf.rename(columns={'mean': 'mean_ndvi'})\n",
    "ndvi_gdf[['ADM4_EN', 'mean_ndvi']].head()"
   ]
  },
  {
   "cell_type": "markdown",
   "id": "1d4ecd18",
   "metadata": {},
   "source": [
    "## Load OSM Buildings, Roads, and Services"
   ]
  },
  {
   "cell_type": "code",
   "execution_count": null,
   "id": "37783378",
   "metadata": {},
   "outputs": [],
   "source": [
    "buildings = gpd.read_file('../data/raw/kawempe_buildings.geojson').to_crs('EPSG:4326')\n",
    "roads = gpd.read_file('../data/raw/kawempe_roads.geojson').to_crs('EPSG:4326')\n",
    "services = gpd.read_file('../data/raw/kawempe_services.geojson').to_crs('EPSG:4326')"
   ]
  },
  {
   "cell_type": "markdown",
   "id": "5940fd46",
   "metadata": {},
   "source": [
    "## Count Buildings, Services, and Road Length per Parish"
   ]
  },
  {
   "cell_type": "code",
   "execution_count": null,
   "id": "5bffbd14",
   "metadata": {},
   "outputs": [],
   "source": [
    "# Building count\n",
    "bldg_join = gpd.sjoin(buildings, ndvi_gdf, predicate='within')\n",
    "building_counts = bldg_join.groupby('ADM4_EN').size().reset_index(name='building_count')\n",
    "\n",
    "# Service count\n",
    "svc_join = gpd.sjoin(services, ndvi_gdf, predicate='within')\n",
    "service_counts = svc_join.groupby('ADM4_EN').size().reset_index(name='service_count')\n",
    "\n",
    "# Road length (project to meters first)\n",
    "roads_proj = roads.to_crs('EPSG:32636')\n",
    "roads_proj['length_km'] = roads_proj.length / 1000\n",
    "parishes_proj = ndvi_gdf.to_crs('EPSG:32636')\n",
    "road_join = gpd.sjoin(roads_proj, parishes_proj, predicate='within')\n",
    "road_length = road_join.groupby('ADM4_EN')['length_km'].sum().reset_index()"
   ]
  },
  {
   "cell_type": "markdown",
   "id": "f08cfd74",
   "metadata": {},
   "source": [
    "## Merge Risk Features into One Layer"
   ]
  },
  {
   "cell_type": "code",
   "execution_count": null,
   "id": "fc28984c",
   "metadata": {},
   "outputs": [],
   "source": [
    "features = ndvi_gdf[['ADM4_EN', 'geometry', 'mean_ndvi']].copy()\n",
    "features = features.merge(building_counts, on='ADM4_EN', how='left')\n",
    "features = features.merge(service_counts, on='ADM4_EN', how='left')\n",
    "features = features.merge(road_length, on='ADM4_EN', how='left')\n",
    "features[['building_count', 'service_count', 'length_km']] = features[['building_count', 'service_count', 'length_km']].fillna(0)\n",
    "features.to_file('../data/processed/kawempe_features.geojson', driver='GeoJSON')\n",
    "features.head()"
   ]
  },
  {
   "cell_type": "markdown",
   "id": "d0320402",
   "metadata": {},
   "source": [
    "## Quick Map: Risk Features by Parish (Kawempe)"
   ]
  },
  {
   "cell_type": "code",
   "execution_count": null,
   "id": "246cb116",
   "metadata": {},
   "outputs": [],
   "source": [
    "fig, axs = plt.subplots(1, 3, figsize=(18, 6))\n",
    "\n",
    "features.plot(column='mean_ndvi', cmap='YlGn', legend=True, ax=axs[0], edgecolor='black')\n",
    "axs[0].set_title('NDVI')\n",
    "\n",
    "features.plot(column='building_count', cmap='Oranges', legend=True, ax=axs[1], edgecolor='black')\n",
    "axs[1].set_title('Buildings')\n",
    "\n",
    "features.plot(column='service_count', cmap='Blues', legend=True, ax=axs[2], edgecolor='black')\n",
    "axs[2].set_title('Services')\n",
    "\n",
    "for ax in axs:\n",
    "    ax.axis('off')\n",
    "\n",
    "plt.tight_layout()\n",
    "plt.show()"
   ]
  }
 ],
 "metadata": {},
 "nbformat": 4,
 "nbformat_minor": 5
}
