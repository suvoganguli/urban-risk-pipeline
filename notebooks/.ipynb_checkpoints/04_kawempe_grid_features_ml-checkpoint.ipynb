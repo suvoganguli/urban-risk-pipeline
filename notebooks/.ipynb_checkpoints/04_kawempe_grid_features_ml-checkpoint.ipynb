{
 "cells": [
  {
   "cell_type": "markdown",
   "id": "49071422",
   "metadata": {},
   "source": [
    "# Kawempe Grid-Based Risk Features and ML Exploration\n",
    "\n",
    "This notebook creates a uniform 250m grid over Kawempe, computes per-cell urban risk indicators (NDVI, buildings, services, roads), and performs basic ML clustering."
   ]
  },
  {
   "cell_type": "code",
   "execution_count": null,
   "id": "5b000ed2",
   "metadata": {},
   "outputs": [],
   "source": [
    "import geopandas as gpd\n",
    "import pandas as pd\n",
    "import matplotlib.pyplot as plt\n",
    "import rasterio\n",
    "from rasterstats import zonal_stats\n",
    "from shapely.geometry import box\n",
    "import numpy as np\n",
    "from sklearn.preprocessing import StandardScaler\n",
    "from sklearn.cluster import KMeans"
   ]
  },
  {
   "cell_type": "markdown",
   "id": "8de7021b",
   "metadata": {},
   "source": [
    "## Step 1: Load NDVI Raster and Define Grid Area"
   ]
  },
  {
   "cell_type": "code",
   "execution_count": null,
   "id": "3823e8a7",
   "metadata": {},
   "outputs": [],
   "source": [
    "ndvi_path = '../data/raw/Kawempe_NDVI_2023.tif'\n",
    "with rasterio.open(ndvi_path) as src:\n",
    "    bounds = src.bounds\n",
    "    crs = src.crs\n",
    "bbox = box(*bounds)\n",
    "bbox_gdf = gpd.GeoDataFrame({'geometry': [bbox]}, crs=crs).to_crs('EPSG:32636')\n",
    "bbox_gdf.plot(edgecolor='black', facecolor='none', figsize=(8, 8))"
   ]
  },
  {
   "cell_type": "markdown",
   "id": "d40dbf4d",
   "metadata": {},
   "source": [
    "## Step 2: Create Uniform Grid (250m × 250m)"
   ]
  },
  {
   "cell_type": "code",
   "execution_count": null,
   "id": "9515e715",
   "metadata": {},
   "outputs": [],
   "source": [
    "grid_size = 250\n",
    "xmin, ymin, xmax, ymax = bbox_gdf.total_bounds\n",
    "rows = int((ymax - ymin) / grid_size)\n",
    "cols = int((xmax - xmin) / grid_size)\n",
    "grid_cells = [box(xmin + i * grid_size, ymin + j * grid_size,\n",
    "                  xmin + (i + 1) * grid_size, ymin + (j + 1) * grid_size)\n",
    "              for i in range(cols) for j in range(rows)]\n",
    "grid = gpd.GeoDataFrame({'geometry': grid_cells}, crs='EPSG:32636').to_crs('EPSG:4326')\n",
    "grid.plot(edgecolor='gray', facecolor='none', figsize=(10, 10))"
   ]
  },
  {
   "cell_type": "markdown",
   "id": "e0bc672e",
   "metadata": {},
   "source": [
    "## Step 3: Compute NDVI per Grid Cell"
   ]
  },
  {
   "cell_type": "code",
   "execution_count": null,
   "id": "f6071aac",
   "metadata": {},
   "outputs": [],
   "source": [
    "stats = zonal_stats(grid.to_json(), ndvi_path, stats=['mean'], geojson_out=True)\n",
    "ndvi_grid = gpd.GeoDataFrame.from_features(stats).set_crs('EPSG:4326')\n",
    "ndvi_grid = ndvi_grid.rename(columns={'mean': 'mean_ndvi'})\n",
    "ndvi_grid.head()"
   ]
  },
  {
   "cell_type": "markdown",
   "id": "1bf8b27a",
   "metadata": {},
   "source": [
    "## Step 4: Load Infrastructure Layers"
   ]
  },
  {
   "cell_type": "code",
   "execution_count": null,
   "id": "aae149eb",
   "metadata": {},
   "outputs": [],
   "source": [
    "buildings = gpd.read_file('../data/raw/kawempe_buildings.geojson').to_crs('EPSG:4326')\n",
    "roads = gpd.read_file('../data/raw/kawempe_roads.geojson').to_crs('EPSG:4326')\n",
    "services = gpd.read_file('../data/raw/kawempe_services.geojson').to_crs('EPSG:4326')"
   ]
  },
  {
   "cell_type": "markdown",
   "id": "5318bba4",
   "metadata": {},
   "source": [
    "## Step 5: Count Features per Grid Cell"
   ]
  },
  {
   "cell_type": "code",
   "execution_count": null,
   "id": "afd586dd",
   "metadata": {},
   "outputs": [],
   "source": [
    "# Building count\n",
    "bldg_join = gpd.sjoin(buildings, ndvi_grid, predicate='within')\n",
    "bldg_count = bldg_join.groupby(bldg_join.index_right).size()\n",
    "ndvi_grid['building_count'] = ndvi_grid.index.map(bldg_count).fillna(0)\n",
    "\n",
    "# Service count\n",
    "svc_join = gpd.sjoin(services, ndvi_grid, predicate='within')\n",
    "svc_count = svc_join.groupby(svc_join.index_right).size()\n",
    "ndvi_grid['service_count'] = ndvi_grid.index.map(svc_count).fillna(0)\n",
    "\n",
    "# Road length\n",
    "roads_proj = roads.to_crs('EPSG:32636')\n",
    "roads_proj['length_km'] = roads_proj.length / 1000\n",
    "grid_proj = ndvi_grid.to_crs('EPSG:32636')\n",
    "road_join = gpd.sjoin(roads_proj, grid_proj, predicate='within')\n",
    "road_length = road_join.groupby(road_join.index_right)['length_km'].sum()\n",
    "ndvi_grid['road_km'] = ndvi_grid.index.map(road_length).fillna(0)"
   ]
  },
  {
   "cell_type": "markdown",
   "id": "df0b92ce",
   "metadata": {},
   "source": [
    "## Step 6: Normalize Features and Cluster"
   ]
  },
  {
   "cell_type": "code",
   "execution_count": null,
   "id": "9411523b",
   "metadata": {},
   "outputs": [],
   "source": [
    "X = ndvi_grid[['mean_ndvi', 'building_count', 'service_count', 'road_km']].fillna(0)\n",
    "X_scaled = StandardScaler().fit_transform(X)\n",
    "kmeans = KMeans(n_clusters=4, random_state=0)\n",
    "ndvi_grid['cluster'] = kmeans.fit_predict(X_scaled)"
   ]
  },
  {
   "cell_type": "markdown",
   "id": "f299e2e4",
   "metadata": {},
   "source": [
    "## Step 7: Visualize Clustering Results"
   ]
  },
  {
   "cell_type": "code",
   "execution_count": null,
   "id": "aa05dd30",
   "metadata": {},
   "outputs": [],
   "source": [
    "ndvi_grid.plot(column='cluster', cmap='tab10', legend=True, figsize=(10, 10), edgecolor='black')\n",
    "plt.title('KMeans Clustering of Grid Cells')\n",
    "plt.axis('off')\n",
    "plt.show()"
   ]
  },
  {
   "cell_type": "markdown",
   "id": "0d3cf605",
   "metadata": {},
   "source": [
    "## Step 8: Save Results"
   ]
  },
  {
   "cell_type": "code",
   "execution_count": null,
   "id": "9cb4924b",
   "metadata": {},
   "outputs": [],
   "source": [
    "ndvi_grid.to_file('../data/processed/kawempe_grid_features.geojson', driver='GeoJSON')"
   ]
  }
 ],
 "metadata": {},
 "nbformat": 4,
 "nbformat_minor": 5
}
