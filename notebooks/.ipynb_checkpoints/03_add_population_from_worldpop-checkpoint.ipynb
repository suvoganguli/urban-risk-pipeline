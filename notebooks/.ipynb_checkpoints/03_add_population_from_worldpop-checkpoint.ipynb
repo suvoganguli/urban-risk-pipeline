{
 "cells": [
  {
   "cell_type": "markdown",
   "id": "c0244dc7",
   "metadata": {},
   "source": [
    "# Step 3: Add Population Feature Using WorldPop\n",
    "\n",
    "This notebook uses population raster data from WorldPop to estimate the number of people in each grid cell within Kawempe. It adds a `pop_est` feature to the ML-ready grid for risk prioritization."
   ]
  },
  {
   "cell_type": "code",
   "execution_count": null,
   "id": "a6d50d23",
   "metadata": {},
   "outputs": [],
   "source": [
    "import geopandas as gpd\n",
    "import rasterio\n",
    "from rasterstats import zonal_stats\n",
    "import matplotlib.pyplot as plt\n",
    "import pandas as pd"
   ]
  },
  {
   "cell_type": "markdown",
   "id": "c379a86e",
   "metadata": {},
   "source": [
    "## Step 1: Load Grid and WorldPop Population Raster"
   ]
  },
  {
   "cell_type": "code",
   "execution_count": null,
   "id": "72992b6d",
   "metadata": {},
   "outputs": [],
   "source": [
    "# Load the grid file from the previous step\n",
    "grid = gpd.read_file('../data/processed/kawempe_grid_features.geojson')\n",
    "\n",
    "# Load WorldPop raster path (modify if needed)\n",
    "pop_raster_path = '../data/raw/uga_ppp_2020.tif'\n",
    "\n",
    "# Preview grid\n",
    "grid.plot(edgecolor='gray', facecolor='none', figsize=(8, 8))\n",
    "plt.title('Kawempe Grid')\n",
    "plt.show()"
   ]
  },
  {
   "cell_type": "markdown",
   "id": "972a45be",
   "metadata": {},
   "source": [
    "## Step 2: Compute Population per Grid Cell"
   ]
  },
  {
   "cell_type": "code",
   "execution_count": null,
   "id": "7f24ca81",
   "metadata": {},
   "outputs": [],
   "source": [
    "# Compute zonal population stats\n",
    "pop_stats = zonal_stats(\n",
    "    grid.to_json(),\n",
    "    pop_raster_path,\n",
    "    stats=['sum'],\n",
    "    geojson_out=True\n",
    ")\n",
    "\n",
    "# Add pop_est to grid\n",
    "pop_grid = gpd.GeoDataFrame.from_features(pop_stats).set_crs('EPSG:4326')\n",
    "pop_grid = pop_grid.rename(columns={'sum': 'pop_est'})\n",
    "pop_grid['pop_est'] = pop_grid['pop_est'].fillna(0).astype(int)\n",
    "pop_grid.head()"
   ]
  },
  {
   "cell_type": "markdown",
   "id": "df6d6cc1",
   "metadata": {},
   "source": [
    "## Step 3: Visualize Estimated Population"
   ]
  },
  {
   "cell_type": "code",
   "execution_count": null,
   "id": "c34dc843",
   "metadata": {},
   "outputs": [],
   "source": [
    "fig, ax = plt.subplots(figsize=(10, 10))\n",
    "pop_grid.plot(column='pop_est', cmap='OrRd', legend=True, ax=ax, edgecolor='gray')\n",
    "plt.title('Estimated Population per Grid Cell')\n",
    "plt.axis('off')\n",
    "plt.show()"
   ]
  },
  {
   "cell_type": "markdown",
   "id": "4505c9d8",
   "metadata": {},
   "source": [
    "## Step 4: Save Updated Grid with Population"
   ]
  },
  {
   "cell_type": "code",
   "execution_count": null,
   "id": "c948a1ad",
   "metadata": {},
   "outputs": [],
   "source": [
    "# Merge population back with other features (if needed)\n",
    "pop_grid.to_file('../data/processed/kawempe_grid_with_population.geojson', driver='GeoJSON')"
   ]
  }
 ],
 "metadata": {},
 "nbformat": 4,
 "nbformat_minor": 5
}
